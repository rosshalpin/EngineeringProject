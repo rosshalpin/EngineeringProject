{
  "nbformat": 4,
  "nbformat_minor": 0,
  "metadata": {
    "colab": {
      "name": "EngineeringProject.ipynb",
      "provenance": [],
      "collapsed_sections": [],
      "authorship_tag": "ABX9TyNmTzTNvhqPoxekE01fmsDI",
      "include_colab_link": true
    },
    "kernelspec": {
      "name": "python3",
      "display_name": "Python 3"
    },
    "language_info": {
      "name": "python"
    },
    "accelerator": "GPU"
  },
  "cells": [
    {
      "cell_type": "markdown",
      "metadata": {
        "id": "view-in-github",
        "colab_type": "text"
      },
      "source": [
        "<a href=\"https://colab.research.google.com/github/rosshalpin/EngineeringProject/blob/main/EngineeringProject.ipynb\" target=\"_parent\"><img src=\"https://colab.research.google.com/assets/colab-badge.svg\" alt=\"Open In Colab\"/></a>"
      ]
    },
    {
      "cell_type": "code",
      "execution_count": null,
      "metadata": {
        "colab": {
          "base_uri": "https://localhost:8080/"
        },
        "id": "Gm-k2jakAlfV",
        "outputId": "6adf8e8f-8e89-4f9d-a99e-bacd438a0e7d"
      },
      "outputs": [
        {
          "output_type": "stream",
          "name": "stdout",
          "text": [
            "/\n",
            "Mounted at /content/gdrive\n",
            "/content/gdrive/My Drive/EngProjV2\n"
          ]
        }
      ],
      "source": [
        "%cd ..\n",
        "from google.colab import drive\n",
        "drive.mount('/content/gdrive')\n",
        "!ln -s /content/gdrive/My\\ Drive/ /mydrive\n",
        "%cd /mydrive/EngProjV2/"
      ]
    },
    {
      "cell_type": "code",
      "source": [
        "!pip install opencv-contrib-python --upgrade"
      ],
      "metadata": {
        "colab": {
          "base_uri": "https://localhost:8080/"
        },
        "id": "wSeGJUq1MuaQ",
        "outputId": "b33dd19d-1567-4da7-8a67-fa25a0d6c019"
      },
      "execution_count": null,
      "outputs": [
        {
          "output_type": "stream",
          "name": "stdout",
          "text": [
            "Requirement already satisfied: opencv-contrib-python in /usr/local/lib/python3.7/dist-packages (4.5.5.64)\n",
            "Requirement already satisfied: numpy>=1.14.5 in /usr/local/lib/python3.7/dist-packages (from opencv-contrib-python) (1.21.5)\n"
          ]
        }
      ]
    },
    {
      "cell_type": "code",
      "source": [
        "%cd /mydrive/EngProjV2/"
      ],
      "metadata": {
        "colab": {
          "base_uri": "https://localhost:8080/"
        },
        "id": "T9qz_kt3MscA",
        "outputId": "72fc4813-270a-42bf-ef7f-67e7ca1a8509"
      },
      "execution_count": null,
      "outputs": [
        {
          "output_type": "stream",
          "name": "stdout",
          "text": [
            "/content/gdrive/My Drive/EngProjV2\n"
          ]
        }
      ]
    },
    {
      "cell_type": "code",
      "source": [
        "import numpy as np\n",
        "import cv2"
      ],
      "metadata": {
        "id": "cASczBliBpQG"
      },
      "execution_count": null,
      "outputs": []
    },
    {
      "cell_type": "code",
      "source": [
        "Conf_threshold = 0.1\n",
        "NMS_threshold = 0.1\n",
        "COLORS = [(0, 255, 0)]\n",
        "\n",
        "class_name = [\"cereal\"]\n",
        "net = cv2.dnn.readNet('/mydrive/EngProjV2/yolov4.weights', '/mydrive/EngProjV2/yolov4.cfg')\n",
        "model = cv2.dnn_DetectionModel(net)\n",
        "model.setInputParams(size=(416, 416), scale=1/255, swapRB=True)"
      ],
      "metadata": {
        "id": "zFZ2s-0EKkYQ"
      },
      "execution_count": null,
      "outputs": []
    },
    {
      "cell_type": "code",
      "source": [
        "frame = cv2.imread(\"test.png\")\n",
        "\n",
        "classes, scores, boxes = model.detect(frame, Conf_threshold, NMS_threshold)\n",
        "for (classid, score, box) in zip(classes, scores, boxes):\n",
        "    color = COLORS[int(classid) % len(COLORS)]\n",
        "    label = \"%s : %f\" % (class_name[0], score)\n",
        "    cv2.rectangle(frame, box, color, 20)\n",
        "    cv2.putText(frame, label, (box[0], box[1]-10),\n",
        "                cv2.FONT_HERSHEY_PLAIN, 5, color, 5)\n",
        "    cv2.imwrite(\"object-detection.jpg\", frame)"
      ],
      "metadata": {
        "id": "dBDr0nWKK_Ht"
      },
      "execution_count": null,
      "outputs": []
    }
  ]
}